{
 "cells": [
  {
   "cell_type": "code",
   "execution_count": 1,
   "metadata": {},
   "outputs": [],
   "source": [
    "import json\n",
    "import pandas as pd\n",
    "\n",
    "f = open('tokenizer-gpt-2-spanish.json')\n",
    "\n",
    "data = json.load(f)\n",
    "\n",
    "vocab = data['model']['vocab']\n",
    "vocab_keys = data['model']['vocab'].keys()\n",
    "\n",
    "vocab_keys\n",
    "\n",
    "df = pd.DataFrame(vocab_keys)\n",
    "\n",
    "df.to_csv('vocab.csv')\n"
   ]
  },
  {
   "cell_type": "code",
   "execution_count": 11,
   "metadata": {},
   "outputs": [
    {
     "data": {
      "text/plain": [
       "False"
      ]
     },
     "execution_count": 11,
     "metadata": {},
     "output_type": "execute_result"
    }
   ],
   "source": [
    "from pandas import Series, DataFrame\n",
    "\n",
    "test = pd.Series(vocab_keys)\n",
    "test\n",
    " in test"
   ]
  },
  {
   "cell_type": "code",
   "execution_count": 33,
   "metadata": {},
   "outputs": [
    {
     "name": "stdout",
     "output_type": "stream",
     "text": [
      "0\n"
     ]
    },
    {
     "data": {
      "text/plain": [
       "0    UERDO\n",
       "Name: 50255, dtype: object"
      ]
     },
     "execution_count": 33,
     "metadata": {},
     "output_type": "execute_result"
    }
   ],
   "source": [
    "for col in df.columns:\n",
    "    print(col)\n",
    "\n",
    "\n",
    "\n",
    "\n",
    "test = df.iloc[5043]\n",
    "\n",
    "\n",
    "test.str.replace('Ġ', '')\n",
    "\n",
    "for val in range(50256): \n",
    "    test = df.iloc[val]\n",
    "    test.str.replace('Ġ', '')\n",
    "\n",
    "\n",
    "\n",
    "\n",
    "\n",
    "test"
   ]
  },
  {
   "cell_type": "code",
   "execution_count": 30,
   "metadata": {},
   "outputs": [
    {
     "name": "stderr",
     "output_type": "stream",
     "text": [
      "Using custom data configuration default-215ad7f1b2f05e66\n",
      "Found cached dataset csv (/home/arnle/.cache/huggingface/datasets/csv/default-215ad7f1b2f05e66/0.0.0/652c3096f041ee27b04d2232d41f10547a8fecda3e284a79a0ec4053c916ef7a)\n",
      "100%|██████████| 1/1 [00:00<00:00, 155.38it/s]\n"
     ]
    },
    {
     "ename": "AttributeError",
     "evalue": "'Dataset' object has no attribute 'iloc'",
     "output_type": "error",
     "traceback": [
      "\u001b[0;31m---------------------------------------------------------------------------\u001b[0m",
      "\u001b[0;31mAttributeError\u001b[0m                            Traceback (most recent call last)",
      "Cell \u001b[0;32mIn [30], line 12\u001b[0m\n\u001b[1;32m      8\u001b[0m indices \u001b[38;5;241m=\u001b[39m [\u001b[38;5;241m0\u001b[39m, \u001b[38;5;241m1\u001b[39m, \u001b[38;5;241m2\u001b[39m, \u001b[38;5;241m3\u001b[39m, \u001b[38;5;241m4\u001b[39m, \u001b[38;5;241m5\u001b[39m, \u001b[38;5;241m6\u001b[39m, \u001b[38;5;241m7\u001b[39m, \u001b[38;5;241m8\u001b[39m, \u001b[38;5;241m9\u001b[39m, \u001b[38;5;241m10\u001b[39m, \u001b[38;5;241m11\u001b[39m, \u001b[38;5;241m12\u001b[39m, \u001b[38;5;241m13\u001b[39m]\n\u001b[1;32m     10\u001b[0m test \u001b[38;5;241m=\u001b[39m vocab\u001b[38;5;241m.\u001b[39mselect(indices)\n\u001b[0;32m---> 12\u001b[0m \u001b[43mtest\u001b[49m\u001b[38;5;241;43m.\u001b[39;49m\u001b[43miloc\u001b[49m[\u001b[38;5;241m6\u001b[39m]\n",
      "\u001b[0;31mAttributeError\u001b[0m: 'Dataset' object has no attribute 'iloc'"
     ]
    }
   ],
   "source": [
    "#pip install datasets\n",
    "from datasets import load_dataset\n",
    "\n",
    "data = load_dataset(\"csv\", data_files=\"vocab.csv\")\n",
    "\n",
    "vocab = data['train']\n",
    "\n",
    "indices = [0, 1, 2, 3, 4, 5, 6, 7, 8, 9, 10, 11, 12, 13]\n",
    "\n",
    "test = vocab.select(indices)\n",
    "\n",
    "test.iloc[6]\n"
   ]
  }
 ],
 "metadata": {
  "kernelspec": {
   "display_name": "Python 3.9.12 ('base')",
   "language": "python",
   "name": "python3"
  },
  "language_info": {
   "codemirror_mode": {
    "name": "ipython",
    "version": 3
   },
   "file_extension": ".py",
   "mimetype": "text/x-python",
   "name": "python",
   "nbconvert_exporter": "python",
   "pygments_lexer": "ipython3",
   "version": "3.9.12"
  },
  "orig_nbformat": 4,
  "vscode": {
   "interpreter": {
    "hash": "9c16d83257839a14d4c9683759b7e80a757295841a4c708adcf8aa920a1032c6"
   }
  }
 },
 "nbformat": 4,
 "nbformat_minor": 2
}
